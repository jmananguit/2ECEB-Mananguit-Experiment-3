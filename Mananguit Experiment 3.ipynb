{
 "cells": [
  {
   "cell_type": "markdown",
   "id": "2102848f-2ed8-41a6-9edf-3a93d8489e40",
   "metadata": {},
   "source": [
    "## Problem 1\n",
    "#### Create a Program that loads the Cars.csv file using pandas and Display the first and last 5 rows of the data"
   ]
  },
  {
   "cell_type": "code",
   "execution_count": 2,
   "id": "111a7ea0-9036-4809-8434-5b55173d7c12",
   "metadata": {},
   "outputs": [
    {
     "name": "stdout",
     "output_type": "stream",
     "text": [
      "First Five Rows\n",
      "               Model   mpg  cyl   disp   hp  drat     wt   qsec  vs  am  gear  \\\n",
      "0          Mazda RX4  21.0    6  160.0  110  3.90  2.620  16.46   0   1     4   \n",
      "1      Mazda RX4 Wag  21.0    6  160.0  110  3.90  2.875  17.02   0   1     4   \n",
      "2         Datsun 710  22.8    4  108.0   93  3.85  2.320  18.61   1   1     4   \n",
      "3     Hornet 4 Drive  21.4    6  258.0  110  3.08  3.215  19.44   1   0     3   \n",
      "4  Hornet Sportabout  18.7    8  360.0  175  3.15  3.440  17.02   0   0     3   \n",
      "\n",
      "   carb  \n",
      "0     4  \n",
      "1     4  \n",
      "2     1  \n",
      "3     1  \n",
      "4     2  \n",
      "Last Five Rows\n",
      "             Model   mpg  cyl   disp   hp  drat     wt  qsec  vs  am  gear  \\\n",
      "27    Lotus Europa  30.4    4   95.1  113  3.77  1.513  16.9   1   1     5   \n",
      "28  Ford Pantera L  15.8    8  351.0  264  4.22  3.170  14.5   0   1     5   \n",
      "29    Ferrari Dino  19.7    6  145.0  175  3.62  2.770  15.5   0   1     5   \n",
      "30   Maserati Bora  15.0    8  301.0  335  3.54  3.570  14.6   0   1     5   \n",
      "31      Volvo 142E  21.4    4  121.0  109  4.11  2.780  18.6   1   1     4   \n",
      "\n",
      "    carb  \n",
      "27     2  \n",
      "28     4  \n",
      "29     6  \n",
      "30     8  \n",
      "31     2  \n"
     ]
    }
   ],
   "source": [
    "#Import pandas library to be able to use phyton data analysis\n",
    "import pandas as pd \n",
    "#call the dataframe csv file named 'cars.csv' and assign it to a variable\n",
    "cars = pd.read_csv('cars.csv')\n",
    "#printing first five rows of the dataframe\n",
    "print ('First Five Rows')\n",
    "#command .head() only calls the first five rows by default\n",
    "a = cars.head(5)\n",
    "print (a)\n",
    "#printing last five rows of the dataframe\n",
    "print ('Last Five Rows')\n",
    "#command .tail() only calls the last five rows by default\n",
    "b = cars.tail()\n",
    "print (b)"
   ]
  },
  {
   "cell_type": "markdown",
   "id": "b693a63a-de0b-4aa9-9e45-9ca33e7bbdcb",
   "metadata": {},
   "source": [
    "## Problem 2\n",
    "## Using the dataframe cars in problem 1, extract the following information using subsetting, slicing and indexing operations.\n",
    "#### a. Display the first five rows with odd-numbered columns (columns 1, 3, 5, 7…) of cars.\n"
   ]
  },
  {
   "cell_type": "code",
   "execution_count": 4,
   "id": "3b796f02-a5af-4388-b558-603a4bb76587",
   "metadata": {},
   "outputs": [
    {
     "name": "stdout",
     "output_type": "stream",
     "text": [
      "First five rows with odd-numbered columns\n",
      "               Model  cyl   hp     wt  vs  gear\n",
      "0          Mazda RX4    6  110  2.620   0     4\n",
      "1      Mazda RX4 Wag    6  110  2.875   0     4\n",
      "2         Datsun 710    4   93  2.320   1     4\n",
      "3     Hornet 4 Drive    6  110  3.215   1     3\n",
      "4  Hornet Sportabout    8  175  3.440   0     3\n"
     ]
    }
   ],
   "source": [
    "#Import pandas library to be able to use phyton data analysis\n",
    "import pandas as pd\n",
    "#call the dataframe csv file named 'cars.csv' and assign it to a variable\n",
    "cars = pd.read_csv('cars.csv')\n",
    "\n",
    "#Part A\n",
    "#Prompt user about use of the code\n",
    "print('First five rows with odd-numbered columns')\n",
    "#Subsetting the first five rows with the syntax '[rowrange1:rowrange2:increment,colrange1:colrange2:increment]\n",
    "#Use an increment of 2 inorder to skip every other column in the Dataframe\n",
    "# use a value of rowrange2 = 5 to limit the number of rows printed\n",
    "A = cars.iloc[:5, ::2]\n",
    "print (A)"
   ]
  },
  {
   "cell_type": "markdown",
   "id": "15e2fbb7-2f57-4535-a46d-d0b65a4fd857",
   "metadata": {},
   "source": [
    "#### b. Display the row that contains the ‘Model’ of ‘Mazda RX4’."
   ]
  },
  {
   "cell_type": "code",
   "execution_count": 6,
   "id": "8ad9c300-6663-416f-825f-32316a372206",
   "metadata": {},
   "outputs": [
    {
     "name": "stdout",
     "output_type": "stream",
     "text": [
      "This code finds a specific car model and prints its every corresponding data\n",
      "       Model   mpg  cyl   disp   hp  drat    wt   qsec  vs  am  gear  carb\n",
      "0  Mazda RX4  21.0    6  160.0  110   3.9  2.62  16.46   0   1     4     4\n"
     ]
    }
   ],
   "source": [
    "#part b\n",
    "#prompt user about the purpose of the code \n",
    "print ('This code finds a specific car model and prints its every corresponding data')\n",
    "#In order the subset the correspending data of 'Mazda RX4', we can use the following code which subsets the entire row of the model\n",
    "B = cars.loc[cars['Model']== 'Mazda RX4']\n",
    "print (B)"
   ]
  },
  {
   "cell_type": "markdown",
   "id": "4f2bc3b0-86a3-4750-9a57-300e991de596",
   "metadata": {},
   "source": [
    "#### c. How many cylinders (‘cyl’) does the car model ‘Camaro Z28’ have?"
   ]
  },
  {
   "cell_type": "code",
   "execution_count": 8,
   "id": "f22185f9-7596-4168-bb1f-a817731843e7",
   "metadata": {},
   "outputs": [
    {
     "name": "stdout",
     "output_type": "stream",
     "text": [
      "This code finds a specific car model and prints its number of cylinders\n",
      "         Model  cyl\n",
      "23  Camaro Z28    8\n"
     ]
    }
   ],
   "source": [
    "#part c\n",
    "#prompt user about the purpose of the code \n",
    "print ('This code finds a specific car model and prints its number of cylinders')\n",
    "#Subsets only the model and number of cyclinders of the selected model\n",
    "print(cars.loc[cars['Model']=='Camaro Z28',['Model','cyl']])"
   ]
  },
  {
   "cell_type": "markdown",
   "id": "fe6fabda-1832-471c-84cd-a8157e798a88",
   "metadata": {},
   "source": [
    "#### d. Determine how many cylinders (‘cyl’) and what gear type (‘gear’) do the car models ‘Mazda RX4 Wag’, ‘Ford Pantera L’ and ‘Honda Civic’ have."
   ]
  },
  {
   "cell_type": "code",
   "execution_count": 10,
   "id": "a4a27fe6-cc95-467e-8152-caa245a6f2c3",
   "metadata": {},
   "outputs": [
    {
     "name": "stdout",
     "output_type": "stream",
     "text": [
      "This code prints multiple model of cars, number of cyclinders, and highest gear of the selected model\n",
      "             Model  cyl  gear\n",
      "1    Mazda RX4 Wag    6     4\n",
      "18     Honda Civic    4     4\n",
      "28  Ford Pantera L    8     5\n"
     ]
    }
   ],
   "source": [
    "#part d\n",
    "#prompt user about the purpose of the code \n",
    "#Subsets only the multiple model of cars, number of cyclinders, and highest gear of the selected model\n",
    "print ('This code prints multiple model of cars, number of cyclinders, and highest gear of the selected model')\n",
    "#Use boolean indexing and bitwise OR (|) operation inorder to call multiple models\n",
    "d = cars[(cars['Model'] == 'Mazda RX4 Wag') | \n",
    "     (cars['Model'] == 'Ford Pantera L') | \n",
    "     (cars['Model'] == 'Honda Civic')][['Model', 'cyl', 'gear']]\n",
    "print (d)"
   ]
  }
 ],
 "metadata": {
  "kernelspec": {
   "display_name": "Python 3 (ipykernel)",
   "language": "python",
   "name": "python3"
  },
  "language_info": {
   "codemirror_mode": {
    "name": "ipython",
    "version": 3
   },
   "file_extension": ".py",
   "mimetype": "text/x-python",
   "name": "python",
   "nbconvert_exporter": "python",
   "pygments_lexer": "ipython3",
   "version": "3.12.4"
  }
 },
 "nbformat": 4,
 "nbformat_minor": 5
}
